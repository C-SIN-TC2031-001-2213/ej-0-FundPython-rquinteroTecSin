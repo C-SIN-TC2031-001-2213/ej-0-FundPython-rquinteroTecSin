{
  "cells": [
    {
      "cell_type": "markdown",
      "source": [
        "## Mostrar mensajes\n",
        "\n",
        "Utiliza la funcion print para mostrar mensajes"
      ],
      "metadata": {
        "id": "ipTYkGMfzLyj"
      }
    },
    {
      "cell_type": "code",
      "execution_count": 17,
      "metadata": {
        "id": "IZfpsPl-FVy7",
        "colab": {
          "base_uri": "https://localhost:8080/"
        },
        "outputId": "106c5b33-3965-44f6-9244-729db6255abd"
      },
      "outputs": [
        {
          "output_type": "stream",
          "name": "stdout",
          "text": [
            "Hola Mundo!\n",
            "Ricardo Quintero\n"
          ]
        }
      ],
      "source": [
        "print(\"Hola Mundo!\")\n",
        "print(\"Ricardo Quintero\")"
      ]
    },
    {
      "cell_type": "markdown",
      "source": [
        "# Mostrando ejemplos de aritmetica de valores"
      ],
      "metadata": {
        "id": "TA-7W_-dzcJA"
      }
    },
    {
      "cell_type": "code",
      "source": [
        "print(1 + 2)"
      ],
      "metadata": {
        "id": "THHqGb0izgZ3",
        "outputId": "5c25d02a-4753-471b-9724-0a7cbb4dcb93",
        "colab": {
          "base_uri": "https://localhost:8080/"
        }
      },
      "execution_count": 13,
      "outputs": [
        {
          "output_type": "stream",
          "name": "stdout",
          "text": [
            "3\n"
          ]
        }
      ]
    },
    {
      "cell_type": "code",
      "source": [
        "print(9 - 5)"
      ],
      "metadata": {
        "id": "ScQ5fmoZzqDa",
        "outputId": "232b9041-5416-4cd3-cf70-10feedc9b59c",
        "colab": {
          "base_uri": "https://localhost:8080/"
        }
      },
      "execution_count": 14,
      "outputs": [
        {
          "output_type": "stream",
          "name": "stdout",
          "text": [
            "4\n"
          ]
        }
      ]
    },
    {
      "cell_type": "code",
      "source": [
        "print(((1 + 3) * (9 - 2) / 2) ** 2)"
      ],
      "metadata": {
        "id": "QBoJ-Mkj0GIq",
        "outputId": "d49a772e-a8f4-4b99-99db-5f1189311da0",
        "colab": {
          "base_uri": "https://localhost:8080/"
        }
      },
      "execution_count": 15,
      "outputs": [
        {
          "output_type": "stream",
          "name": "stdout",
          "text": [
            "196.0\n"
          ]
        }
      ]
    },
    {
      "cell_type": "markdown",
      "source": [
        "# Comentarios\n",
        "\n",
        "Se utiliza el símbolo de # para comentarios"
      ],
      "metadata": {
        "id": "KAKyiRjO0M36"
      }
    },
    {
      "cell_type": "code",
      "source": [
        "# Multiply 3 by 2\n",
        "\n",
        "print(3 * 2)"
      ],
      "metadata": {
        "id": "jmK9fMHX0RhK",
        "outputId": "f7066c1b-4d4c-4d4f-b7fc-71eb61345915",
        "colab": {
          "base_uri": "https://localhost:8080/"
        }
      },
      "execution_count": 16,
      "outputs": [
        {
          "output_type": "stream",
          "name": "stdout",
          "text": [
            "6\n"
          ]
        }
      ]
    },
    {
      "cell_type": "markdown",
      "source": [
        "# Variables\n",
        "\n",
        "Manejo básico de variables en Python"
      ],
      "metadata": {
        "id": "I9bJWC5x1ICj"
      }
    },
    {
      "cell_type": "code",
      "source": [
        "# Create a variable called test_var and give it a value of 4+5\n",
        "test_var = 4 + 5\n",
        "\n",
        "# Print the value of test_var\n",
        "print(test_var)"
      ],
      "metadata": {
        "id": "Nf3j5Q_r1Lp6",
        "outputId": "de898642-3a0f-417f-8559-c4463a70cfd5",
        "colab": {
          "base_uri": "https://localhost:8080/"
        }
      },
      "execution_count": 18,
      "outputs": [
        {
          "output_type": "stream",
          "name": "stdout",
          "text": [
            "9\n"
          ]
        }
      ]
    },
    {
      "cell_type": "code",
      "source": [
        "# Print the value of test_var\n",
        "print(test_var)"
      ],
      "metadata": {
        "id": "3B_YjVXT1T8S",
        "outputId": "1f24efe7-6241-4723-cc69-82985e4041a5",
        "colab": {
          "base_uri": "https://localhost:8080/"
        }
      },
      "execution_count": 19,
      "outputs": [
        {
          "output_type": "stream",
          "name": "stdout",
          "text": [
            "9\n"
          ]
        }
      ]
    }
  ],
  "metadata": {
    "colab": {
      "name": "ej-helloworldjnb.ipynb",
      "provenance": []
    },
    "kernelspec": {
      "display_name": "Python 3",
      "name": "python3"
    },
    "language_info": {
      "codemirror_mode": {
        "name": "ipython",
        "version": 3
      },
      "file_extension": ".py",
      "mimetype": "text/x-python",
      "name": "python",
      "nbconvert_exporter": "python",
      "pygments_lexer": "ipython3",
      "version": "3.8.12"
    }
  },
  "nbformat": 4,
  "nbformat_minor": 0
}