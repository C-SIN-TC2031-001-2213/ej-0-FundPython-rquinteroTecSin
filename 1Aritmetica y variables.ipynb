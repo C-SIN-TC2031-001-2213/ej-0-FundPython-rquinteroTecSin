{
  "cells": [
    {
      "cell_type": "code",
      "execution_count": 3,
      "metadata": {
        "id": "IZfpsPl-FVy7",
        "outputId": "6880ceb7-2a0f-496d-b60c-2ac1c018d5d5",
        "colab": {
          "base_uri": "https://localhost:8080/"
        }
      },
      "outputs": [
        {
          "output_type": "stream",
          "name": "stdout",
          "text": [
            "Hola Mundo!\n",
            "Ricardo Quintero\n"
          ]
        }
      ],
      "source": [
        "print(\"Hola Mundo!\")\n",
        "print(\"Ricardo Quintero\")"
      ]
    }
  ],
  "metadata": {
    "colab": {
      "name": "ej-helloworldjnb.ipynb",
      "provenance": []
    },
    "kernelspec": {
      "display_name": "Python 3",
      "name": "python3"
    },
    "language_info": {
      "codemirror_mode": {
        "name": "ipython",
        "version": 3
      },
      "file_extension": ".py",
      "mimetype": "text/x-python",
      "name": "python",
      "nbconvert_exporter": "python",
      "pygments_lexer": "ipython3",
      "version": "3.8.12"
    }
  },
  "nbformat": 4,
  "nbformat_minor": 0
}