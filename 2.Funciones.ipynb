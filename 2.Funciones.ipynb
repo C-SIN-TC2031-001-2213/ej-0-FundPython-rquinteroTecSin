{
  "cells": [
    {
      "cell_type": "markdown",
      "source": [
        "# Funciones en Python"
      ],
      "metadata": {
        "id": "h3xX7uvU8SNe"
      }
    },
    {
      "cell_type": "code",
      "execution_count": 1,
      "metadata": {
        "id": "suubeZLt8GbL"
      },
      "outputs": [],
      "source": [
        "# Define the function\n",
        "\n",
        "def add_three(input_var):\n",
        "    output_var = input_var + 3\n",
        "    return output_var"
      ]
    },
    {
      "cell_type": "code",
      "source": [
        "print(add_three(4))"
      ],
      "metadata": {
        "id": "fsLHWow49KpX",
        "outputId": "60e65523-a17d-4427-e42b-46a6aa826fa1",
        "colab": {
          "base_uri": "https://localhost:8080/"
        }
      },
      "execution_count": 2,
      "outputs": [
        {
          "output_type": "stream",
          "name": "stdout",
          "text": [
            "7\n"
          ]
        }
      ]
    }
  ],
  "metadata": {
    "language_info": {
      "name": "python"
    },
    "orig_nbformat": 4,
    "colab": {
      "provenance": []
    },
    "kernelspec": {
      "name": "python3",
      "display_name": "Python 3"
    },
    "gpuClass": "standard"
  },
  "nbformat": 4,
  "nbformat_minor": 0
}